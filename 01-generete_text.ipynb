{
 "cells": [
  {
   "cell_type": "markdown",
   "id": "19a7bf61",
   "metadata": {},
   "source": [
    "### Exemplo de Geração de Texto, usando perguntas e respostas"
   ]
  },
  {
   "cell_type": "code",
   "execution_count": null,
   "id": "960c31e1",
   "metadata": {},
   "outputs": [],
   "source": [
    "import openai"
   ]
  },
  {
   "cell_type": "code",
   "execution_count": 15,
   "id": "76ab81d0",
   "metadata": {},
   "outputs": [],
   "source": [
    "client = openai.Client()"
   ]
  },
  {
   "cell_type": "markdown",
   "id": "853fa0ee",
   "metadata": {},
   "source": [
    "### Fluxo da conversa\n",
    "- User: Usuário que inicia a conversa\n",
    "- Assistant: Bot que responde a pergunta"
   ]
  },
  {
   "cell_type": "code",
   "execution_count": 31,
   "id": "3152c3ec",
   "metadata": {},
   "outputs": [],
   "source": [
    "mensagens = []\n",
    "mensagens = [{\"role\":\"user\", \"content\":\"Defina uma laranja em 5 palavras\"}]"
   ]
  },
  {
   "cell_type": "code",
   "execution_count": 32,
   "id": "e87b85fd",
   "metadata": {},
   "outputs": [],
   "source": [
    "resposta = client.chat.completions.create(\n",
    "    messages=mensagens,\n",
    "    model=\"gpt-3.5-turbo-0125\",\n",
    "    max_tokens=1000,\n",
    "    temperature=0)"
   ]
  },
  {
   "cell_type": "code",
   "execution_count": 33,
   "id": "538d2fd6",
   "metadata": {},
   "outputs": [
    {
     "name": "stdout",
     "output_type": "stream",
     "text": [
      "ChatCompletion(id='chatcmpl-C5I0FOkbbBFqZs9cNdYllrsaKXR6r', choices=[Choice(finish_reason='stop', index=0, logprobs=None, message=ChatCompletionMessage(content='Fruta cítrica suculenta e saborosa.', refusal=None, role='assistant', annotations=[], audio=None, function_call=None, tool_calls=None))], created=1755376879, model='gpt-3.5-turbo-0125', object='chat.completion', service_tier='default', system_fingerprint=None, usage=CompletionUsage(completion_tokens=14, prompt_tokens=18, total_tokens=32, completion_tokens_details=CompletionTokensDetails(accepted_prediction_tokens=0, audio_tokens=0, reasoning_tokens=0, rejected_prediction_tokens=0), prompt_tokens_details=PromptTokensDetails(audio_tokens=0, cached_tokens=0)))\n"
     ]
    }
   ],
   "source": [
    "print(resposta)"
   ]
  },
  {
   "cell_type": "code",
   "execution_count": 34,
   "id": "ea7dface",
   "metadata": {},
   "outputs": [
    {
     "name": "stdout",
     "output_type": "stream",
     "text": [
      "Fruta cítrica suculenta e saborosa.\n"
     ]
    }
   ],
   "source": [
    "print(resposta.choices[0].message.content)"
   ]
  },
  {
   "cell_type": "code",
   "execution_count": 35,
   "id": "96fb791c",
   "metadata": {},
   "outputs": [],
   "source": [
    "mensagens.append({\"role\":\"assistant\", \"content\":resposta.choices[0].message.content})"
   ]
  },
  {
   "cell_type": "code",
   "execution_count": 36,
   "id": "d38530bb",
   "metadata": {},
   "outputs": [],
   "source": [
    "mensagens.append({\"role\":\"user\", \"content\":\"E qual a sua cor?\"})"
   ]
  },
  {
   "cell_type": "code",
   "execution_count": 37,
   "id": "b5c3a070",
   "metadata": {},
   "outputs": [],
   "source": [
    "resposta = client.chat.completions.create(\n",
    "    messages=mensagens,\n",
    "    model=\"gpt-3.5-turbo-0125\",\n",
    "    max_tokens=1000,\n",
    "    temperature=0\n",
    ")"
   ]
  },
  {
   "cell_type": "code",
   "execution_count": 38,
   "id": "923c930e",
   "metadata": {},
   "outputs": [
    {
     "name": "stdout",
     "output_type": "stream",
     "text": [
      "Laranja.\n"
     ]
    }
   ],
   "source": [
    "print(resposta.choices[0].message.content)"
   ]
  },
  {
   "cell_type": "code",
   "execution_count": 40,
   "id": "3e4f014a",
   "metadata": {},
   "outputs": [],
   "source": [
    "mensagens.append({\"role\":\"assistant\", \"content\":resposta.choices[0].message.content})"
   ]
  },
  {
   "cell_type": "code",
   "execution_count": 41,
   "id": "67cdbf69",
   "metadata": {},
   "outputs": [
    {
     "data": {
      "text/plain": [
       "[{'role': 'user', 'content': 'Defina uma laranja em 5 palavras'},\n",
       " {'role': 'assistant', 'content': 'Fruta cítrica suculenta e saborosa.'},\n",
       " {'role': 'user', 'content': 'E qual a sua cor?'},\n",
       " {'role': 'assistant', 'content': 'Laranja.'}]"
      ]
     },
     "execution_count": 41,
     "metadata": {},
     "output_type": "execute_result"
    }
   ],
   "source": [
    "mensagens"
   ]
  },
  {
   "cell_type": "markdown",
   "id": "2eafbf8a",
   "metadata": {},
   "source": [
    "### Utilizando Funções"
   ]
  },
  {
   "cell_type": "code",
   "execution_count": 44,
   "id": "7a787f8b",
   "metadata": {},
   "outputs": [],
   "source": [
    "def geracao_texto(mensagens, model=\"gpt-3.5-turbo-0125\", max_tokens=1000, temperature=0):\n",
    "    resposta = client.chat.completions.create(messages=mensagens, model=model, max_tokens=max_tokens, temperature=temperature)\n",
    "    mensagens.append({\"role\":\"assistant\", \"content\":resposta.choices[0].message.content})\n",
    "    return mensagens"
   ]
  },
  {
   "cell_type": "code",
   "execution_count": 46,
   "id": "db79c0cf",
   "metadata": {},
   "outputs": [
    {
     "data": {
      "text/plain": [
       "[{'role': 'user', 'content': 'Defina o que é API em 5 palavras.'},\n",
       " {'role': 'assistant', 'content': 'Interface de programação de aplicativos.'}]"
      ]
     },
     "execution_count": 46,
     "metadata": {},
     "output_type": "execute_result"
    }
   ],
   "source": [
    "msg1 = [{\"role\":\"user\", \"content\":\"Defina o que é API em 5 palavras.\"}]\n",
    "mensagens = geracao_texto(msg1)\n",
    "mensagens"
   ]
  },
  {
   "cell_type": "markdown",
   "id": "fa0b61f0",
   "metadata": {},
   "source": [
    "### Geração de textos , usando Stream"
   ]
  },
  {
   "cell_type": "code",
   "execution_count": 47,
   "id": "434b51eb",
   "metadata": {},
   "outputs": [],
   "source": [
    "mensagens = [{\"role\":\"user\", \"content\":\"Conte uma história simples e objetiva sobre LLM.\"}]\n",
    "resposta = client.chat.completions.create(\n",
    "    messages=mensagens,\n",
    "    model=\"gpt-3.5-turbo-0125\",\n",
    "    max_tokens=1000,\n",
    "    temperature=0,\n",
    "    stream=True\n",
    ")"
   ]
  },
  {
   "cell_type": "code",
   "execution_count": 48,
   "id": "165f9592",
   "metadata": {},
   "outputs": [
    {
     "data": {
      "text/plain": [
       "<openai.Stream at 0x26243ebff40>"
      ]
     },
     "execution_count": 48,
     "metadata": {},
     "output_type": "execute_result"
    }
   ],
   "source": [
    "resposta"
   ]
  },
  {
   "cell_type": "code",
   "execution_count": 49,
   "id": "0a05f582",
   "metadata": {},
   "outputs": [
    {
     "name": "stdout",
     "output_type": "stream",
     "text": [
      "LLM era um jovem estudante de direito muito dedicado e esforçado. Ele sempre se destacava nas aulas e era elogiado pelos professores por sua inteligência e comprometimento.\n",
      "\n",
      "Um dia, LLM recebeu a notícia de que havia sido selecionado para participar de um renomado programa de intercâmbio em um dos melhores escritórios de advocacia do mundo. Ele ficou radiante com a oportunidade e se preparou com afinco para a experiência.\n",
      "\n",
      "Durante o intercâmbio, LLM teve a chance de aprender com os melhores profissionais da área e vivenciar de perto o dia a dia de um escritório de advocacia de prestígio. Ele se dedicou ao máximo, absorvendo todo o conhecimento e adquirindo novas habilidades.\n",
      "\n",
      "Ao final do programa, LLM retornou ao seu país de origem com uma bagagem de conhecimento e experiências valiosas. Ele se formou com louvor na faculdade de direito e conseguiu uma excelente colocação em um escritório renomado, onde pôde aplicar tudo o que havia aprendido durante o intercâmbio.\n",
      "\n",
      "LLM se tornou um advogado de sucesso, respeitado por sua competência e ética profissional. Sua jornada de dedicação e esforço havia valido a pena, e ele estava orgulhoso de ter alcançado seus objetivos graças à sua determinação e perseverança."
     ]
    }
   ],
   "source": [
    "for resposta_stream in resposta:\n",
    "    texto = resposta_stream.choices[0].delta.content\n",
    "    if texto:\n",
    "        print(texto, end=\"\")"
   ]
  }
 ],
 "metadata": {
  "kernelspec": {
   "display_name": ".venv",
   "language": "python",
   "name": "python3"
  },
  "language_info": {
   "codemirror_mode": {
    "name": "ipython",
    "version": 3
   },
   "file_extension": ".py",
   "mimetype": "text/x-python",
   "name": "python",
   "nbconvert_exporter": "python",
   "pygments_lexer": "ipython3",
   "version": "3.8.8"
  }
 },
 "nbformat": 4,
 "nbformat_minor": 5
}
