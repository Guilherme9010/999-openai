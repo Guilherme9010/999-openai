{
 "cells": [
  {
   "cell_type": "code",
   "execution_count": null,
   "id": "1a1b419e",
   "metadata": {},
   "outputs": [],
   "source": [
    "# Importação de bibliotecas\n",
    "import json\n",
    "import openai"
   ]
  },
  {
   "cell_type": "code",
   "execution_count": null,
   "id": "dabddef0",
   "metadata": {},
   "outputs": [],
   "source": [
    "# Cria cleinte para os serviços da OpenAI\n",
    "client = openai.Client()"
   ]
  },
  {
   "cell_type": "code",
   "execution_count": 6,
   "id": "4c80ee8e",
   "metadata": {},
   "outputs": [],
   "source": [
    "# Função de saudação por Período (manhã, tarede, noite)\n",
    "def saudacao_por_periodo(hora):\n",
    "    if 5 <= hora < 12:\n",
    "        return json.dumps({\"saudacao\":\"Bom dia!\"})\n",
    "    elif 12 <= hora < 18:\n",
    "        return json.dumps({\"saudacao\":\"Boa tarde!\"})\n",
    "    elif 18 <= hora < 22:\n",
    "        return json.dumps({\"saudacao\":\"Boa noite!\"})\n",
    "    else:\n",
    "        return json.dumps({\"saudacao\":\"Boa madrugada!\"})\n",
    "    "
   ]
  },
  {
   "cell_type": "code",
   "execution_count": null,
   "id": "ef52707b",
   "metadata": {},
   "outputs": [],
   "source": [
    "# Vamos criar TOOLS, que são ferramentas que a OpenAI oferece aos DEV's\n",
    "tools = [{\n",
    "    \"type\":\"function\",\n",
    "    \"function\": {\n",
    "        \"name\": \"saudacao_por_periodo\",\n",
    "        \"description\": \"Retorna uma saudação baseada na uma hora do dia\",\n",
    "        \"parameters\": {\n",
    "            \"type\": \"object\",\n",
    "            \"properties\": {\n",
    "                \"hora\": {\n",
    "                    \"type\": \"integer\",\n",
    "                    \"description\": \"A hora do dia em formato de 24h\"},},\n",
    "                \"required\": [\"hora\"]\n",
    "        }}}]"
   ]
  },
  {
   "cell_type": "code",
   "execution_count": null,
   "id": "16155bd8",
   "metadata": {},
   "outputs": [],
   "source": [
    "# Dicionário de mapeamento entre a TOOL e a FUNÇÃO\n",
    "funcao_disponivel = {\n",
    "    \"saudacao_por_periodo\": saudacao_por_periodo}"
   ]
  },
  {
   "cell_type": "code",
   "execution_count": 16,
   "id": "88cb3d34",
   "metadata": {},
   "outputs": [],
   "source": [
    "mensagens = [{\"role\": \"user\", \"content\": \"Quala a saudação o modelo me dá se for 23h?\"}]"
   ]
  },
  {
   "cell_type": "code",
   "execution_count": 17,
   "id": "638a074d",
   "metadata": {},
   "outputs": [],
   "source": [
    "resposta = client.chat.completions.create(\n",
    "    model=\"gpt-3.5-turbo-0125\",\n",
    "    messages=mensagens,\n",
    "    tools=tools,\n",
    "    tool_choice=\"auto\")"
   ]
  },
  {
   "cell_type": "code",
   "execution_count": 18,
   "id": "e890e3c9",
   "metadata": {},
   "outputs": [
    {
     "data": {
      "text/plain": [
       "ChatCompletionMessage(content=None, refusal=None, role='assistant', annotations=[], audio=None, function_call=None, tool_calls=[ChatCompletionMessageFunctionToolCall(id='call_WP3r2amf1pu5azNH3LRyA2XG', function=Function(arguments='{\"hora\":23}', name='saudacao_por_periodo'), type='function')])"
      ]
     },
     "execution_count": 18,
     "metadata": {},
     "output_type": "execute_result"
    }
   ],
   "source": [
    "mensagem_resp = resposta.choices[0].message\n",
    "mensagem_resp"
   ]
  },
  {
   "cell_type": "code",
   "execution_count": 19,
   "id": "1042b166",
   "metadata": {},
   "outputs": [
    {
     "data": {
      "text/plain": [
       "[ChatCompletionMessageFunctionToolCall(id='call_WP3r2amf1pu5azNH3LRyA2XG', function=Function(arguments='{\"hora\":23}', name='saudacao_por_periodo'), type='function')]"
      ]
     },
     "execution_count": 19,
     "metadata": {},
     "output_type": "execute_result"
    }
   ],
   "source": [
    "tool_calls = mensagem_resp.tool_calls\n",
    "tool_calls"
   ]
  },
  {
   "cell_type": "code",
   "execution_count": null,
   "id": "fb9c99e5",
   "metadata": {},
   "outputs": [],
   "source": [
    "if tool_calls:\n",
    "    mensagens.append(mensagem_resp)\n",
    "    for tool_call in tool_calls:\n",
    "        function_name = tool_call.function.name\n",
    "        function_to_call = funcao_disponivel[function_name]\n",
    "        function_args = json.loads(tool_call.function.arguments)\n",
    "        function_response = function_to_call(\n",
    "            hora = function_args.get(\"hora\")\n",
    "        )\n",
    "\n",
    "        mensagens.append({\n",
    "            \"tool_call_id\": tool_call.id,\n",
    "            \"role\": \"tool\",\n",
    "            \"name\": function_name,\n",
    "            \"content\": function_response})\n",
    "    \n",
    "    segunda_resposta = client.chat.completions.create(\n",
    "        model = \"gpt-3.5-turbo-0125\",\n",
    "        messages = mensagens\n",
    "    )"
   ]
  },
  {
   "cell_type": "code",
   "execution_count": 23,
   "id": "d6f560dc",
   "metadata": {},
   "outputs": [
    {
     "data": {
      "text/plain": [
       "ChatCompletionMessage(content='Boa madrugada!', refusal=None, role='assistant', annotations=[], audio=None, function_call=None, tool_calls=None)"
      ]
     },
     "execution_count": 23,
     "metadata": {},
     "output_type": "execute_result"
    }
   ],
   "source": [
    "mensagem_resposta = segunda_resposta.choices[0].message\n",
    "mensagem_resposta"
   ]
  }
 ],
 "metadata": {
  "kernelspec": {
   "display_name": ".venv",
   "language": "python",
   "name": "python3"
  },
  "language_info": {
   "codemirror_mode": {
    "name": "ipython",
    "version": 3
   },
   "file_extension": ".py",
   "mimetype": "text/x-python",
   "name": "python",
   "nbconvert_exporter": "python",
   "pygments_lexer": "ipython3",
   "version": "3.8.8"
  }
 },
 "nbformat": 4,
 "nbformat_minor": 5
}
