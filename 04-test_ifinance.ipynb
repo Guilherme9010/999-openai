{
 "cells": [
  {
   "cell_type": "markdown",
   "id": "891b7d50",
   "metadata": {},
   "source": [
    "### Aplicação Mercado Financeiro - Análise de Ativos"
   ]
  },
  {
   "cell_type": "code",
   "execution_count": null,
   "id": "d583cc93",
   "metadata": {},
   "outputs": [],
   "source": [
    "# Verifique a versão do python que está instalada\n",
    "#python -version\n",
    "\n",
    "# Se for 3.8 ou inferior, execute no PS do Terminal do VSCode os seguintes:\n",
    "#python -m pip install --upgrade pip setuptools wheel\n",
    "#pip install --upgrade yfinance multitasking pandas\n",
    "#pip install multitasking==0.0.10"
   ]
  },
  {
   "cell_type": "code",
   "execution_count": null,
   "id": "d1f77a26",
   "metadata": {},
   "outputs": [],
   "source": [
    "# Importação de bibliotecas\n",
    "import numpy as np\n",
    "import pandas as pd\n",
    "import yfinance as yf"
   ]
  },
  {
   "cell_type": "code",
   "execution_count": 65,
   "id": "69cb4c1c",
   "metadata": {},
   "outputs": [
    {
     "name": "stderr",
     "output_type": "stream",
     "text": [
      "C:\\Users\\Naja\\AppData\\Local\\Temp\\ipykernel_7220\\1501627288.py:10: FutureWarning: YF.download() has changed argument auto_adjust default to True\n",
      "  df_ativo = yf.download(ticker_obj, start=start_date, end=end_date)\n",
      "[*********************100%***********************]  1 of 1 completed\n",
      "\n",
      "1 Failed download:\n",
      "['BBSA3.SA']: YFTzMissingError('possibly delisted; no timezone found')\n"
     ]
    }
   ],
   "source": [
    "# Extrair informações por: intervalos entre data\n",
    "ticker     = \"BBSA3\"        # [\"BBDC4\", \"PETR4\"]\n",
    "start_date = \"2025-01-01\"\n",
    "end_date   = \"2025-02-19\"\n",
    "periodo    = \"5d\"\n",
    "\n",
    "#ticker_obj = yf.Ticker(f\"{ticker}.SA\")\n",
    "ticker_obj  = f\"{ticker}.SA\"\n",
    "\n",
    "df_ativo = yf.download(ticker_obj, start=start_date, end=end_date)\n",
    "#df.columns   # com multi index nas colunas\n",
    "#df_ativo.head(3)"
   ]
  },
  {
   "cell_type": "code",
   "execution_count": 60,
   "id": "0edf2f0f",
   "metadata": {},
   "outputs": [],
   "source": [
    "# Extrair informações instantâneas do ATIVO\n",
    "ativo = yf.Ticker(ticker_obj)\n",
    "info = ativo.fast_info.toJSON()\n",
    "#print(info)"
   ]
  },
  {
   "cell_type": "code",
   "execution_count": 61,
   "id": "ee6624b5",
   "metadata": {},
   "outputs": [],
   "source": [
    "# Seleciona dados entre duas datas\n",
    "df = ativo.history(start=start_date, end=end_date)\n",
    "#df.columns  # sem multi index nas colunas\n",
    "#df.head()"
   ]
  },
  {
   "cell_type": "code",
   "execution_count": 63,
   "id": "c970a86b",
   "metadata": {},
   "outputs": [
    {
     "name": "stdout",
     "output_type": "stream",
     "text": [
      "Quantidade de registros: 35\n"
     ]
    }
   ],
   "source": [
    "# Seleciona dados por período \n",
    "#df = petr4.history(period=\"max\")    # Todos dados disponíveis sobre o ATIVO\n",
    "#df = petr4.history(period=\"2y\")     # Dados dos últimos 2 anos sobre o ATIVO\n",
    "df = ativo.history(period=periodo)   # Dados do período sobre o ATIVO (Ex.: periodo = \"5d\")\n",
    "print(f\"Quantidade de registros: {df.size}\")\n",
    "#print(df.head(3))\n",
    "#print(df.tail(3))"
   ]
  },
  {
   "cell_type": "code",
   "execution_count": 74,
   "id": "2482c80f",
   "metadata": {},
   "outputs": [],
   "source": [
    "def retorna_cotacao(ticker, periodo=\"1mo\"):\n",
    "    ticker_obj = f\"{ticker}.SA\"\n",
    "    ativo = yf.Ticker(ticker_obj)\n",
    "    hist = ativo.history(period=periodo)[\"Close\"]\n",
    "    hist.index = hist.index.strftime(\"Y%-%m-%d\")\n",
    "    hist = round(hist, 2)\n",
    "\n",
    "    # Limitar o resultado a 30 registros\n",
    "    if len(hist) > 30:\n",
    "        slice_size = int(len(hist) / 30)\n",
    "        hist = hist.iloc[::-slice_size][::-1]\n",
    "    return hist.to_json()"
   ]
  },
  {
   "cell_type": "code",
   "execution_count": 76,
   "id": "a52633e0",
   "metadata": {},
   "outputs": [
    {
     "data": {
      "text/plain": [
       "'{\"2024-08-19 00:00:00-03:00\":27.34,\"2024-08-29 00:00:00-03:00\":27.01,\"2024-09-10 00:00:00-03:00\":27.39,\"2024-09-20 00:00:00-03:00\":26.41,\"2024-10-02 00:00:00-03:00\":26.08,\"2024-10-14 00:00:00-03:00\":25.47,\"2024-10-24 00:00:00-03:00\":25.32,\"2024-11-05 00:00:00-03:00\":25.21,\"2024-11-18 00:00:00-03:00\":24.69,\"2024-11-29 00:00:00-03:00\":24.25,\"2024-12-11 00:00:00-03:00\":24.82,\"2024-12-23 00:00:00-03:00\":23.58,\"2025-01-08 00:00:00-03:00\":23.82,\"2025-01-20 00:00:00-03:00\":25.07,\"2025-01-30 00:00:00-03:00\":27.25,\"2025-02-11 00:00:00-03:00\":27.66,\"2025-02-21 00:00:00-03:00\":27.58,\"2025-03-07 00:00:00-03:00\":27.66,\"2025-03-19 00:00:00-03:00\":28.28,\"2025-03-31 00:00:00-03:00\":28.08,\"2025-04-10 00:00:00-03:00\":27.45,\"2025-04-24 00:00:00-03:00\":27.59,\"2025-05-07 00:00:00-03:00\":29.2,\"2025-05-19 00:00:00-03:00\":24.94,\"2025-05-29 00:00:00-03:00\":23.61,\"2025-06-10 00:00:00-03:00\":21.54,\"2025-06-23 00:00:00-03:00\":21.09,\"2025-07-03 00:00:00-03:00\":22.3,\"2025-07-15 00:00:00-03:00\":20.9,\"2025-07-25 00:00:00-03:00\":20.24,\"2025-08-06 00:00:00-03:00\":18.7,\"2025-08-18 00:00:00-03:00\":21.07}'"
      ]
     },
     "execution_count": 76,
     "metadata": {},
     "output_type": "execute_result"
    }
   ],
   "source": [
    "hist = retorna_cotacao(\"BBAS3\", \"1y\")\n",
    "hist"
   ]
  }
 ],
 "metadata": {
  "kernelspec": {
   "display_name": ".venv",
   "language": "python",
   "name": "python3"
  },
  "language_info": {
   "codemirror_mode": {
    "name": "ipython",
    "version": 3
   },
   "file_extension": ".py",
   "mimetype": "text/x-python",
   "name": "python",
   "nbconvert_exporter": "python",
   "pygments_lexer": "ipython3",
   "version": "3.8.8"
  }
 },
 "nbformat": 4,
 "nbformat_minor": 5
}
