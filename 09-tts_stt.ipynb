{
 "cells": [
  {
   "cell_type": "markdown",
   "id": "d235bfb0",
   "metadata": {},
   "source": [
    "### Text-to-Speech e Speech-to-Text"
   ]
  },
  {
   "cell_type": "markdown",
   "id": "02ecd32a",
   "metadata": {},
   "source": [
    "#### TTS (Text to Speech)"
   ]
  },
  {
   "cell_type": "code",
   "execution_count": 1,
   "id": "d34fec3d",
   "metadata": {},
   "outputs": [],
   "source": [
    "import openai"
   ]
  },
  {
   "cell_type": "code",
   "execution_count": 2,
   "id": "34ceddf7",
   "metadata": {},
   "outputs": [],
   "source": [
    "client = openai.Client()"
   ]
  },
  {
   "cell_type": "code",
   "execution_count": 3,
   "id": "d2525b60",
   "metadata": {},
   "outputs": [],
   "source": [
    "texto = \"\"\"\n",
    "    Python é uma linguagem de programação popular e de fácil aprendizado, conhecida por \n",
    "    sua sintaxe simples e legível. Ela é amplamente utilizada em diversas áreas, como \n",
    "    desenvolvimento web, automação, análise de dados, inteligência artificial e \n",
    "    ciência de dados. Uma das principais características do Python é sua versatilidade, \n",
    "    permitindo que seja usado para projetos pequenos e grandes. Além disso, Python possui \n",
    "    uma grande comunidade de desenvolvedores e uma vasta quantidade de bibliotecas que \n",
    "    facilitam o trabalho, como pandas, NumPy e Django.A linguagem também é excelente para \n",
    "    iniciantes, pois permite escrever código de forma clara e direta. Com uma ampla gama \n",
    "    de tutoriais e recursos disponíveis, aprender Python pode ser uma excelente escolha \n",
    "    para quem deseja começar na programação.\n",
    "\"\"\""
   ]
  },
  {
   "cell_type": "code",
   "execution_count": null,
   "id": "f9de5bca",
   "metadata": {},
   "outputs": [],
   "source": [
    "# Variações de voz: alloy, ash, coral, echo, Fable, Onyx, Nova, Sage, Shimmer)\n",
    "resposta = client.audio.speech.create(\n",
    "    model=\"tts-1\",\n",
    "    voice=\"alloy\",\n",
    "    input=texto)"
   ]
  },
  {
   "cell_type": "code",
   "execution_count": 8,
   "id": "42b1f7ef",
   "metadata": {},
   "outputs": [],
   "source": [
    "arquivo = \"files/tts_voz.mp3\"\n",
    "resposta.write_to_file(arquivo)"
   ]
  },
  {
   "cell_type": "markdown",
   "id": "2d7cfcd5",
   "metadata": {},
   "source": [
    "### STT (Speech to Text)"
   ]
  },
  {
   "cell_type": "code",
   "execution_count": 9,
   "id": "53cfe34f",
   "metadata": {},
   "outputs": [],
   "source": [
    "audio = open(\"files/stt_curso.mp3\", \"rb\")\n",
    "transcricao = client.audio.transcriptions.create(\n",
    "    model=\"whisper-1\",\n",
    "    file=audio)"
   ]
  },
  {
   "cell_type": "code",
   "execution_count": 10,
   "id": "0f0fe18c",
   "metadata": {},
   "outputs": [
    {
     "name": "stdout",
     "output_type": "stream",
     "text": [
      "Seja muito bem-vindo e bem-vinda ao curso Desbravando a IA com Python Explorando modelos de Rugged Face Neste curso eu quero te mostrar uma das maiores plataformas de inteligência artificial Que possui diversos modelos prontos que é a plataforma do Rugged Face E o meu objetivo nesse curso é explorar dois tipos de modelos Modelos relacionados a processamento de linguagem natural Onde estaremos trabalhando com análise de sentimentos Vamos trabalhar também com informações de perguntas e respostas Vamos trabalhar também com modelos que nos ajudem a resumir textos e assim por diante Por outro lado nós teremos também modelos relacionados a visão computacional Estaremos trabalhando com aplicações para segmentar imagens, classificar imagens, detectar objetos e muito mais Além disso, em algumas sessões você vai ter a oportunidade de construir o seu modelo Uma interface web para o seu modelo utilizando a biblioteca Gradle E também vamos aprender a colocar a aplicação que construímos em produção Utilizando o Rugged Face no Space Espero que você possa estar empolgado para esse curso Pois eu estou muito empolgado para disseminar esse conhecimento para você\n"
     ]
    }
   ],
   "source": [
    "print(transcricao.text)"
   ]
  },
  {
   "cell_type": "markdown",
   "id": "9ec21ab1",
   "metadata": {},
   "source": [
    "### STT (especificando contexto via parâmetro: prompt => evita erros)"
   ]
  },
  {
   "cell_type": "code",
   "execution_count": 11,
   "id": "05007e40",
   "metadata": {},
   "outputs": [],
   "source": [
    "audio = open(\"files/stt_curso.mp3\", \"rb\")\n",
    "transcricao = client.audio.transcriptions.create(\n",
    "    model=\"whisper-1\",\n",
    "    file=audio,\n",
    "    prompt=\"Essa é a transcrição de uma aula de apresentação do curso Hugging Face. Nesse curso nós usamos a biblioteca Gradio como interface web\")"
   ]
  },
  {
   "cell_type": "code",
   "execution_count": 12,
   "id": "010a3746",
   "metadata": {},
   "outputs": [
    {
     "name": "stdout",
     "output_type": "stream",
     "text": [
      "Seja muito bem-vindo e bem-vinda ao curso Desbravando a IA com Python, explorando modelos de Hugging Face. Neste curso eu quero te mostrar uma das maiores plataformas de inteligência artificial que possui diversos modelos prontos que é a plataforma do Hugging Face. E o meu objetivo nesse curso é explorar dois tipos de modelos, modelos relacionados a processamento de linguagem natural, onde estaremos trabalhando com análise de sentimentos, vamos trabalhar também com informações de perguntas e respostas, vamos trabalhar também com modelos que nos ajudem a resumir textos e assim por diante. Por outro lado, nós teremos também modelos relacionados a visão computacional. Estaremos trabalhando com aplicações para segmentar imagens, modificar imagens, detectar objetos e muito mais. Além disso, em algumas sessões você vai ter a oportunidade de construir o seu modelo, uma interface web para o seu modelo utilizando a biblioteca Gradio. E também vamos aprender a colocar a aplicação que construímos em produção utilizando o Hugging Face no Space. Espero que você possa estar empolgado para esse curso, pois estou muito empolgado para disseminar esse conhecimento para você.\n"
     ]
    }
   ],
   "source": [
    "print(transcricao.text)"
   ]
  },
  {
   "cell_type": "markdown",
   "id": "3b930d0f",
   "metadata": {},
   "source": [
    "### STT (contexto via prompt) Formato: Legenda"
   ]
  },
  {
   "cell_type": "code",
   "execution_count": 14,
   "id": "198366e9",
   "metadata": {},
   "outputs": [],
   "source": [
    "audio = open(\"files/stt_curso.mp3\", \"rb\")\n",
    "transcricao = client.audio.transcriptions.create(\n",
    "    model=\"whisper-1\",\n",
    "    file=audio,\n",
    "    prompt=\"Essa é a transcrição de uma aula de apresentação do curso Hugging Face. \\\n",
    "        Nesse curso nós usamos a biblioteca Gradio como interface web\",\n",
    "    response_format=\"srt\")"
   ]
  },
  {
   "cell_type": "code",
   "execution_count": 15,
   "id": "44126cf4",
   "metadata": {},
   "outputs": [
    {
     "name": "stdout",
     "output_type": "stream",
     "text": [
      "1\n",
      "00:00:00,320 --> 00:00:07,320\n",
      "Seja muito bem vindo e bem vinda ao curso Desbravando a IA com Python, explorando modelos\n",
      "\n",
      "2\n",
      "00:00:07,320 --> 00:00:09,560\n",
      "de Hugging Face.\n",
      "\n",
      "3\n",
      "00:00:09,560 --> 00:00:15,960\n",
      "Neste curso eu quero te mostrar uma das maiores plataformas de inteligência artificial que\n",
      "\n",
      "4\n",
      "00:00:15,960 --> 00:00:21,480\n",
      "possui diversos modelos prontos que é a plataforma do Hugging Face.\n",
      "\n",
      "5\n",
      "00:00:21,480 --> 00:00:27,600\n",
      "E o meu objetivo neste curso é explorar dois tipos de modelos, modelos relacionados a processamento\n",
      "\n",
      "6\n",
      "00:00:27,600 --> 00:00:34,599\n",
      "de linguagem natural, onde estaremos trabalhando com análise de sentimentos, vamos trabalhar\n",
      "\n",
      "7\n",
      "00:00:34,599 --> 00:00:42,279\n",
      "também com informações de perguntas e respostas, vamos trabalhar também com modelos que nos\n",
      "\n",
      "8\n",
      "00:00:42,279 --> 00:00:45,959\n",
      "ajudem a resumir textos e assim por diante.\n",
      "\n",
      "9\n",
      "00:00:45,959 --> 00:00:51,279\n",
      "Por outro lado, nós teremos também modelos relacionados a visão computacional, estaremos\n",
      "\n",
      "10\n",
      "00:00:51,279 --> 00:00:57,279\n",
      "trabalhando com aplicações para segmentar imagens, classificar imagens, detectar objetos\n",
      "\n",
      "11\n",
      "00:00:57,279 --> 00:00:58,840\n",
      "e muito mais.\n",
      "\n",
      "12\n",
      "00:00:58,840 --> 00:01:05,919\n",
      "Além disso, em algumas sessões você vai ter a oportunidade de construir o seu modelo,\n",
      "\n",
      "13\n",
      "00:01:05,919 --> 00:01:11,279\n",
      "uma interface web para o seu modelo utilizando a biblioteca Gradio e também vamos aprender\n",
      "\n",
      "14\n",
      "00:01:11,279 --> 00:01:18,040\n",
      "a colocar a aplicação que construímos em produção utilizando o Hugging Face no Space.\n",
      "\n",
      "15\n",
      "00:01:18,040 --> 00:01:22,760\n",
      "Espero que você possa estar empolgado para este curso, pois estou muito empolgado para\n",
      "\n",
      "16\n",
      "00:01:22,760 --> 00:01:24,680\n",
      "disseminar este conhecimento para você.\n",
      "\n",
      "\n",
      "\n"
     ]
    }
   ],
   "source": [
    "print(transcricao)"
   ]
  }
 ],
 "metadata": {
  "kernelspec": {
   "display_name": ".venv",
   "language": "python",
   "name": "python3"
  },
  "language_info": {
   "codemirror_mode": {
    "name": "ipython",
    "version": 3
   },
   "file_extension": ".py",
   "mimetype": "text/x-python",
   "name": "python",
   "nbconvert_exporter": "python",
   "pygments_lexer": "ipython3",
   "version": "3.8.8"
  }
 },
 "nbformat": 4,
 "nbformat_minor": 5
}
