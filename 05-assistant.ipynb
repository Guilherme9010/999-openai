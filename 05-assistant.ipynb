{
 "cells": [
  {
   "cell_type": "markdown",
   "id": "77be6f85",
   "metadata": {},
   "source": [
    "## Assistente de Tecnologia Especializado"
   ]
  },
  {
   "cell_type": "code",
   "execution_count": null,
   "id": "19b7a2d0",
   "metadata": {},
   "outputs": [],
   "source": [
    "import openai"
   ]
  },
  {
   "cell_type": "code",
   "execution_count": 2,
   "id": "d0e3ed0c",
   "metadata": {},
   "outputs": [],
   "source": [
    "client = openai.Client()"
   ]
  },
  {
   "cell_type": "code",
   "execution_count": null,
   "id": "461db1e7",
   "metadata": {},
   "outputs": [],
   "source": [
    "assistant = client.beta.assistants.create(\n",
    "    name = \"Tutor de Tecnologia\",\n",
    "    instructions = \"Você é um tutor relacionado a assuntos de tecnologia\",\n",
    "    tools = [{\"type\":\"code_interpreter\"}],\n",
    "    model=\"gpt-3.5-turbo-0125\")"
   ]
  },
  {
   "cell_type": "code",
   "execution_count": 4,
   "id": "a96a3cfd",
   "metadata": {},
   "outputs": [],
   "source": [
    "pergunta = \"\"\"\n",
    "Em um sistema de cache com mapeamento direto, dado uma memória principal de uma cache de 256 KB e bloco de 64 bytes:\n",
    "- Quantas linhas existem na cache ?\n",
    "- Onde o bloco de endereço 0x1A23C será mapeado na cache ?\n",
    "\"\"\""
   ]
  },
  {
   "cell_type": "code",
   "execution_count": 5,
   "id": "b7fd4f4d",
   "metadata": {},
   "outputs": [
    {
     "name": "stderr",
     "output_type": "stream",
     "text": [
      "C:\\Users\\Naja\\AppData\\Local\\Temp\\ipykernel_19436\\3798620811.py:2: DeprecationWarning: The Assistants API is deprecated in favor of the Responses API\n",
      "  thread = client.beta.threads.create()\n",
      "C:\\Users\\Naja\\AppData\\Local\\Temp\\ipykernel_19436\\3798620811.py:3: DeprecationWarning: The Assistants API is deprecated in favor of the Responses API\n",
      "  message = client.beta.threads.messages.create(\n"
     ]
    }
   ],
   "source": [
    "# Criação da Thread\n",
    "thread = client.beta.threads.create()\n",
    "message = client.beta.threads.messages.create(\n",
    "    thread_id = thread.id,\n",
    "    role = \"user\",\n",
    "    content = pergunta)"
   ]
  },
  {
   "cell_type": "code",
   "execution_count": 7,
   "id": "cd994053",
   "metadata": {},
   "outputs": [
    {
     "name": "stderr",
     "output_type": "stream",
     "text": [
      "C:\\Users\\Naja\\AppData\\Local\\Temp\\ipykernel_19436\\3335153388.py:2: DeprecationWarning: The Assistants API is deprecated in favor of the Responses API\n",
      "  run = client.beta.threads.runs.create(\n"
     ]
    }
   ],
   "source": [
    "# Executa a thread\n",
    "run = client.beta.threads.runs.create(\n",
    "    thread_id = thread.id,\n",
    "    assistant_id = assistant.id,\n",
    "    instructions = \"Nome de usuário premium\"\n",
    "    )"
   ]
  },
  {
   "cell_type": "code",
   "execution_count": null,
   "id": "2580ab05",
   "metadata": {},
   "outputs": [
    {
     "data": {
      "text/plain": [
       "'queued'"
      ]
     },
     "execution_count": 8,
     "metadata": {},
     "output_type": "execute_result"
    }
   ],
   "source": [
    "# Exibe o status da thread\n",
    "run.status"
   ]
  },
  {
   "cell_type": "code",
   "execution_count": 9,
   "id": "69004793",
   "metadata": {},
   "outputs": [
    {
     "name": "stderr",
     "output_type": "stream",
     "text": [
      "C:\\Users\\Naja\\AppData\\Local\\Temp\\ipykernel_19436\\3683720315.py:5: DeprecationWarning: The Assistants API is deprecated in favor of the Responses API\n",
      "  run = client.beta.threads.runs.retrieve(\n"
     ]
    }
   ],
   "source": [
    "# Aguarda o thread rodar\n",
    "import time \n",
    "while run.status in [\"queued\",\"in_progress\",\"cancelling\"]:\n",
    "    time.sleep(1)\n",
    "    run = client.beta.threads.runs.retrieve(\n",
    "        thread_id = thread.id,\n",
    "        run_id = run.id\n",
    "    )"
   ]
  },
  {
   "cell_type": "code",
   "execution_count": 12,
   "id": "6c81cc08",
   "metadata": {},
   "outputs": [
    {
     "name": "stderr",
     "output_type": "stream",
     "text": [
      "C:\\Users\\Naja\\AppData\\Local\\Temp\\ipykernel_19436\\1930001157.py:3: DeprecationWarning: The Assistants API is deprecated in favor of the Responses API\n",
      "  mensagens = client.beta.threads.messages.list(\n"
     ]
    },
    {
     "name": "stdout",
     "output_type": "stream",
     "text": [
      "SyncCursorPage[Message](data=[Message(id='msg_FkMiXfq7BSAQiZ3lHAc8r5yE', assistant_id='asst_LraJRBV5QeojCQdgSFa1v3cV', attachments=[], completed_at=None, content=[TextContentBlock(text=Text(annotations=[], value='O bloco de endereço 0x1A23C será mapeado na linha 1672 da cache.'), type='text')], created_at=1756026401, incomplete_at=None, incomplete_details=None, metadata={}, object='thread.message', role='assistant', run_id='run_OAxSj69ZcAGHpottjEk6HHlC', status=None, thread_id='thread_SMkTLrC9mSHV9vZ0NprkJKMr'), Message(id='msg_WHhzfKJePXCNzG3iA5C8Gp1P', assistant_id='asst_LraJRBV5QeojCQdgSFa1v3cV', attachments=[], completed_at=None, content=[TextContentBlock(text=Text(annotations=[], value=\"O endereço é dividido da seguinte forma:\\n- 14 bits para a tag\\n- 12 bits para o índice\\n- Os bits da tag são: '00000000000000'\\n- Os bits do índice são: '011010001000'\\n\\nAgora vamos calcular onde o bloco de endereço 0x1A23C será mapeado na cache.\"), type='text')], created_at=1756026399, incomplete_at=None, incomplete_details=None, metadata={}, object='thread.message', role='assistant', run_id='run_OAxSj69ZcAGHpottjEk6HHlC', status=None, thread_id='thread_SMkTLrC9mSHV9vZ0NprkJKMr'), Message(id='msg_BiTUrdLNmbTgIaLhdg7Wjuxs', assistant_id='asst_LraJRBV5QeojCQdgSFa1v3cV', attachments=[], completed_at=None, content=[TextContentBlock(text=Text(annotations=[], value='A cache com mapeamento direto terá 4096 linhas.\\n\\nAgora, para encontrar onde o bloco de endereço 0x1A23C será mapeado na cache, precisamos considerar a forma como o endereço é dividido em tag, índice e offset. No caso de um mapeamento direto, o índice é determinado pelo número de linhas na cache.\\n\\nVamos calcular onde o bloco de endereço 0x1A23C será mapeado na cache:'), type='text')], created_at=1756026395, incomplete_at=None, incomplete_details=None, metadata={}, object='thread.message', role='assistant', run_id='run_OAxSj69ZcAGHpottjEk6HHlC', status=None, thread_id='thread_SMkTLrC9mSHV9vZ0NprkJKMr'), Message(id='msg_gumP8eVaKFZKA8OwhvJkIYPK', assistant_id='asst_LraJRBV5QeojCQdgSFa1v3cV', attachments=[], completed_at=None, content=[TextContentBlock(text=Text(annotations=[], value='Para determinar quantas linhas existem na cache com mapeamento direto, precisamos calcular o número de linhas da cache. Esse valor pode ser obtido a partir da divisão do tamanho da cache pela tamanho do bloco.\\n\\nVamos realizar esses cálculos:'), type='text')], created_at=1756026392, incomplete_at=None, incomplete_details=None, metadata={}, object='thread.message', role='assistant', run_id='run_OAxSj69ZcAGHpottjEk6HHlC', status=None, thread_id='thread_SMkTLrC9mSHV9vZ0NprkJKMr'), Message(id='msg_NZwJaNSngDkTZxz16LrJLntN', assistant_id=None, attachments=[], completed_at=None, content=[TextContentBlock(text=Text(annotations=[], value='\\nEm um sistema de cache com mapeamento direto, dado uma memória principal de uma cache de 256 KB e bloco de 64 bytes:\\n- Quantas linhas existem na cache ?\\n- Onde o bloco de endereço 0x1A23C será mapeado na cache ?\\n'), type='text')], created_at=1756026202, incomplete_at=None, incomplete_details=None, metadata={}, object='thread.message', role='user', run_id=None, status=None, thread_id='thread_SMkTLrC9mSHV9vZ0NprkJKMr')], has_more=False, object='list', first_id='msg_FkMiXfq7BSAQiZ3lHAc8r5yE', last_id='msg_NZwJaNSngDkTZxz16LrJLntN')\n"
     ]
    }
   ],
   "source": [
    "# Verificar a resposta\n",
    "if run.status == \"completed\":\n",
    "    mensagens = client.beta.threads.messages.list(\n",
    "        thread_id = thread.id\n",
    "    )\n",
    "\n",
    "    print(mensagens)\n",
    "else:\n",
    "    print(f\"Erro: {run.status}\")"
   ]
  },
  {
   "cell_type": "code",
   "execution_count": 13,
   "id": "7cf10e0c",
   "metadata": {},
   "outputs": [
    {
     "name": "stdout",
     "output_type": "stream",
     "text": [
      "O bloco de endereço 0x1A23C será mapeado na linha 1672 da cache.\n"
     ]
    }
   ],
   "source": [
    "print(mensagens.data[0].content[0].text.value)"
   ]
  },
  {
   "cell_type": "code",
   "execution_count": 14,
   "id": "8c235235",
   "metadata": {},
   "outputs": [
    {
     "name": "stderr",
     "output_type": "stream",
     "text": [
      "C:\\Users\\Naja\\AppData\\Local\\Temp\\ipykernel_19436\\764390232.py:2: DeprecationWarning: The Assistants API is deprecated in favor of the Responses API\n",
      "  run_steps = client.beta.threads.runs.steps.list(\n"
     ]
    }
   ],
   "source": [
    "# Analisando os passos do modelo\n",
    "run_steps = client.beta.threads.runs.steps.list(\n",
    "    thread_id = thread.id,\n",
    "    run_id = run.id)"
   ]
  },
  {
   "cell_type": "code",
   "execution_count": null,
   "id": "3bf12c51",
   "metadata": {},
   "outputs": [
    {
     "name": "stdout",
     "output_type": "stream",
     "text": [
      "\n",
      "===Step message_creation\n"
     ]
    },
    {
     "name": "stderr",
     "output_type": "stream",
     "text": [
      "C:\\Users\\Naja\\AppData\\Local\\Temp\\ipykernel_19436\\977266563.py:9: DeprecationWarning: The Assistants API is deprecated in favor of the Responses API\n",
      "  message = client.beta.threads.messages.retrieve(\n"
     ]
    },
    {
     "name": "stdout",
     "output_type": "stream",
     "text": [
      "Para determinar quantas linhas existem na cache com mapeamento direto, precisamos calcular o número de linhas da cache. Esse valor pode ser obtido a partir da divisão do tamanho da cache pela tamanho do bloco.\n",
      "\n",
      "Vamos realizar esses cálculos:\n",
      "\n",
      "===Step tool_calls\n",
      "==========\n",
      "# Tamanho da cache em bytes\n",
      "tamanho_cache_kb = 256\n",
      "tamanho_cache_bytes = tamanho_cache_kb * 1024\n",
      "\n",
      "# Tamanho do bloco em bytes\n",
      "tamanho_bloco_bytes = 64\n",
      "\n",
      "# Calculando o número de linhas na cache\n",
      "num_linhas_cache = tamanho_cache_bytes // tamanho_bloco_bytes\n",
      "\n",
      "num_linhas_cache\n",
      "==========\n",
      "\n",
      "===Step message_creation\n",
      "A cache com mapeamento direto terá 4096 linhas.\n",
      "\n",
      "Agora, para encontrar onde o bloco de endereço 0x1A23C será mapeado na cache, precisamos considerar a forma como o endereço é dividido em tag, índice e offset. No caso de um mapeamento direto, o índice é determinado pelo número de linhas na cache.\n",
      "\n",
      "Vamos calcular onde o bloco de endereço 0x1A23C será mapeado na cache:\n",
      "\n",
      "===Step tool_calls\n",
      "==========\n",
      "import math\n",
      "\n",
      "# Tamanho do endereço em bits\n",
      "tamanho_endereco_bits = 32\n",
      "\n",
      "# Tamanho do offset (em bits) - log2 do tamanho do bloco\n",
      "tamanho_offset_bits = int(math.log2(tamanho_bloco_bytes))\n",
      "\n",
      "# Número de bits para o índice - log2 do número de linhas na cache\n",
      "tamanho_indice_bits = int(math.log2(num_linhas_cache))\n",
      "\n",
      "# Calculando o número de bits para a tag\n",
      "tamanho_tag_bits = tamanho_endereco_bits - tamanho_offset_bits - tamanho_indice_bits\n",
      "\n",
      "# Convertendo o endereço de 0x1A23C para binário\n",
      "endereco = int(\"0x1A23C\", 16)\n",
      "endereco_binario = bin(endereco)[2:].zfill(tamanho_endereco_bits)\n",
      "\n",
      "# Separando os bits do endereço\n",
      "tag_bits = endereco_binario[:tamanho_tag_bits]\n",
      "indice_bits = endereco_binario[tamanho_tag_bits : tamanho_tag_bits + tamanho_indice_bits]\n",
      "\n",
      "tamanho_tag_bits, tamanho_indice_bits, tag_bits, indice_bits\n",
      "==========\n",
      "\n",
      "===Step message_creation\n",
      "O endereço é dividido da seguinte forma:\n",
      "- 14 bits para a tag\n",
      "- 12 bits para o índice\n",
      "- Os bits da tag são: '00000000000000'\n",
      "- Os bits do índice são: '011010001000'\n",
      "\n",
      "Agora vamos calcular onde o bloco de endereço 0x1A23C será mapeado na cache.\n",
      "\n",
      "===Step tool_calls\n",
      "==========\n",
      "# Convertendo o índice para decimal para determinar em qual linha da cache será mapeado\n",
      "indice_decimal = int(indice_bits, 2)\n",
      "\n",
      "indice_decimal\n",
      "==========\n",
      "\n",
      "===Step message_creation\n",
      "O bloco de endereço 0x1A23C será mapeado na linha 1672 da cache.\n"
     ]
    }
   ],
   "source": [
    "for step in run_steps.data[::-1]:\n",
    "    print(f\"\\n===Step {step.step_details.type}\")\n",
    "    if step.step_details.type == \"tool_calls\":\n",
    "        for tool_call in step.step_details.tool_calls:\n",
    "            print(\"=\" *10)\n",
    "            print(tool_call.code_interpreter.input)\n",
    "            print(\"=\" *10)\n",
    "    if step.step_details.type == \"message_creation\":\n",
    "        message = client.beta.threads.messages.retrieve(\n",
    "            thread_id = thread.id,\n",
    "            message_id = step.step_details.message_creation.message_id)\n",
    "        print(message.content[0].text.value)"
   ]
  }
 ],
 "metadata": {
  "kernelspec": {
   "display_name": ".venv",
   "language": "python",
   "name": "python3"
  },
  "language_info": {
   "codemirror_mode": {
    "name": "ipython",
    "version": 3
   },
   "file_extension": ".py",
   "mimetype": "text/x-python",
   "name": "python",
   "nbconvert_exporter": "python",
   "pygments_lexer": "ipython3",
   "version": "3.8.8"
  }
 },
 "nbformat": 4,
 "nbformat_minor": 5
}
