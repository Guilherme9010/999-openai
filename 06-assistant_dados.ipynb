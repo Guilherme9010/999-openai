{
 "cells": [
  {
   "cell_type": "markdown",
   "id": "e59eb348",
   "metadata": {},
   "source": [
    "### Assistente para Análise de Dados"
   ]
  },
  {
   "cell_type": "code",
   "execution_count": 1,
   "id": "ce1f240f",
   "metadata": {},
   "outputs": [],
   "source": [
    "import openai\n",
    "import pandas as pd"
   ]
  },
  {
   "cell_type": "code",
   "execution_count": 3,
   "id": "599e8cd0",
   "metadata": {},
   "outputs": [],
   "source": [
    "client = openai.Client()"
   ]
  },
  {
   "cell_type": "code",
   "execution_count": null,
   "id": "dcdc29c1",
   "metadata": {},
   "outputs": [],
   "source": [
    "# Enviar arquivo CSV para OpenAI\n",
    "file = client.files.create(\n",
    "    file = open(\"files/sales_data.csv\", \"rb\"),\n",
    "    purpose = \"assistants\")"
   ]
  },
  {
   "cell_type": "code",
   "execution_count": 5,
   "id": "718bf7a2",
   "metadata": {},
   "outputs": [
    {
     "name": "stdout",
     "output_type": "stream",
     "text": [
      "file-P6GMTHyTM866xGtPknesHu\n"
     ]
    }
   ],
   "source": [
    "print(file.id)"
   ]
  },
  {
   "cell_type": "code",
   "execution_count": 6,
   "id": "e97c7f56",
   "metadata": {},
   "outputs": [],
   "source": [
    "assistant = client.beta.assistants.create(\n",
    "    name = \"Analista de Dados\",\n",
    "    instructions = \"Você é um anasta que analisa dados sobre vendas\",\n",
    "    tools = [{\"type\":\"code_interpreter\"}],\n",
    "    tool_resources={\"code_interpreter\": {\"file_ids\": [file.id]}},\n",
    "    model=\"gpt-4o\")"
   ]
  },
  {
   "cell_type": "code",
   "execution_count": 16,
   "id": "db56edf6",
   "metadata": {},
   "outputs": [],
   "source": [
    "#1) pergunta = \"Qual o rating médio das vendas do supermercado?\"\n",
    "#2) pergunta\n",
    "pergunta = \"Gere um gráfico de pizza com o percentual de vendas por linha de produto.\""
   ]
  },
  {
   "cell_type": "code",
   "execution_count": 17,
   "id": "c60cc673",
   "metadata": {},
   "outputs": [
    {
     "name": "stderr",
     "output_type": "stream",
     "text": [
      "C:\\Users\\Naja\\AppData\\Local\\Temp\\ipykernel_6392\\3798620811.py:2: DeprecationWarning: The Assistants API is deprecated in favor of the Responses API\n",
      "  thread = client.beta.threads.create()\n",
      "C:\\Users\\Naja\\AppData\\Local\\Temp\\ipykernel_6392\\3798620811.py:3: DeprecationWarning: The Assistants API is deprecated in favor of the Responses API\n",
      "  message = client.beta.threads.messages.create(\n"
     ]
    }
   ],
   "source": [
    "# Criação da Thread\n",
    "thread = client.beta.threads.create()\n",
    "message = client.beta.threads.messages.create(\n",
    "    thread_id = thread.id,\n",
    "    role = \"user\",\n",
    "    content = pergunta)"
   ]
  },
  {
   "cell_type": "code",
   "execution_count": 18,
   "id": "b998ff91",
   "metadata": {},
   "outputs": [
    {
     "name": "stderr",
     "output_type": "stream",
     "text": [
      "C:\\Users\\Naja\\AppData\\Local\\Temp\\ipykernel_6392\\3617845786.py:2: DeprecationWarning: The Assistants API is deprecated in favor of the Responses API\n",
      "  run = client.beta.threads.runs.create(\n"
     ]
    }
   ],
   "source": [
    "# Executa a thread\n",
    "run = client.beta.threads.runs.create(\n",
    "    thread_id = thread.id,\n",
    "    assistant_id = assistant.id,\n",
    "    instructions = \"Nome de usuário premium\")"
   ]
  },
  {
   "cell_type": "code",
   "execution_count": 19,
   "id": "6aeab711",
   "metadata": {},
   "outputs": [
    {
     "name": "stderr",
     "output_type": "stream",
     "text": [
      "C:\\Users\\Naja\\AppData\\Local\\Temp\\ipykernel_6392\\953612562.py:5: DeprecationWarning: The Assistants API is deprecated in favor of the Responses API\n",
      "  run = client.beta.threads.runs.retrieve(\n"
     ]
    }
   ],
   "source": [
    "# Aguarda o thread rodar\n",
    "import time \n",
    "while run.status in [\"queued\",\"in_progress\",\"cancelling\"]:\n",
    "    time.sleep(1)\n",
    "    run = client.beta.threads.runs.retrieve(\n",
    "        thread_id = thread.id,\n",
    "        run_id = run.id)"
   ]
  },
  {
   "cell_type": "code",
   "execution_count": 20,
   "id": "78092f95",
   "metadata": {},
   "outputs": [
    {
     "name": "stderr",
     "output_type": "stream",
     "text": [
      "C:\\Users\\Naja\\AppData\\Local\\Temp\\ipykernel_6392\\1930001157.py:3: DeprecationWarning: The Assistants API is deprecated in favor of the Responses API\n",
      "  mensagens = client.beta.threads.messages.list(\n"
     ]
    },
    {
     "name": "stdout",
     "output_type": "stream",
     "text": [
      "SyncCursorPage[Message](data=[Message(id='msg_WgLLih2XLqDUMGJRkNqn18PW', assistant_id='asst_KcN98YwaaKiIyoVaVlI6uILT', attachments=[], completed_at=None, content=[ImageFileContentBlock(image_file=ImageFile(file_id='file-DnyJ9R6GsmntJHGYNv7fWJ', detail=None), type='image_file'), TextContentBlock(text=Text(annotations=[], value='Aqui está o gráfico de pizza mostrando o percentual de vendas por linha de produto. Cada fatia representa a contribuição percentual de uma linha de produto específica para o total de vendas. Se precisar de mais alguma coisa, fique à vontade para perguntar!'), type='text')], created_at=1756036560, incomplete_at=None, incomplete_details=None, metadata={}, object='thread.message', role='assistant', run_id='run_BSBTmfCNM7g2fdDdPcdmP5W5', status=None, thread_id='thread_kCqY4CQlXsnPJGbZuodp1mVJ'), Message(id='msg_enx9zapH9jrnnxO0KcKY9opX', assistant_id='asst_KcN98YwaaKiIyoVaVlI6uILT', attachments=[], completed_at=None, content=[TextContentBlock(text=Text(annotations=[], value='O arquivo contém dados de vendas, incluindo vários campos relevantes. Para gerar o gráfico de pizza desejado, vamos focar nas colunas `Product line` e `Total`, onde cada linha de produto precisa ser somada em termos de vendas totais para calcular o percentual de contribuição de cada linha de produto.\\n\\nVamos calcular as vendas totais de cada linha de produto e, em seguida, iremos plotar o gráfico de pizza.'), type='text')], created_at=1756036550, incomplete_at=None, incomplete_details=None, metadata={}, object='thread.message', role='assistant', run_id='run_BSBTmfCNM7g2fdDdPcdmP5W5', status=None, thread_id='thread_kCqY4CQlXsnPJGbZuodp1mVJ'), Message(id='msg_4hoa5smQ6lR4L8DVJg4rkRO0', assistant_id='asst_KcN98YwaaKiIyoVaVlI6uILT', attachments=[], completed_at=None, content=[TextContentBlock(text=Text(annotations=[], value='Para gerar um gráfico de pizza que mostre o percentual de vendas por linha de produto, precisamos primeiro examinar o conteúdo do arquivo enviado para identificar a estrutura dos dados. Vamos dar uma olhada nas primeiras linhas do arquivo para entender como os dados estão organizados.'), type='text')], created_at=1756036545, incomplete_at=None, incomplete_details=None, metadata={}, object='thread.message', role='assistant', run_id='run_BSBTmfCNM7g2fdDdPcdmP5W5', status=None, thread_id='thread_kCqY4CQlXsnPJGbZuodp1mVJ'), Message(id='msg_Ps6R0lcNXhiIh8yR0GQvakJZ', assistant_id=None, attachments=[], completed_at=None, content=[TextContentBlock(text=Text(annotations=[], value='Gere um gráfico de pizza com o percentual de vendas por linha de produto.'), type='text')], created_at=1756036540, incomplete_at=None, incomplete_details=None, metadata={}, object='thread.message', role='user', run_id=None, status=None, thread_id='thread_kCqY4CQlXsnPJGbZuodp1mVJ')], has_more=False, object='list', first_id='msg_WgLLih2XLqDUMGJRkNqn18PW', last_id='msg_Ps6R0lcNXhiIh8yR0GQvakJZ')\n"
     ]
    }
   ],
   "source": [
    "# Verificar a resposta\n",
    "if run.status == \"completed\":\n",
    "    mensagens = client.beta.threads.messages.list(\n",
    "        thread_id = thread.id\n",
    "    )\n",
    "\n",
    "    print(mensagens)\n",
    "else:\n",
    "    print(f\"Erro: {run.status}\")"
   ]
  },
  {
   "cell_type": "code",
   "execution_count": null,
   "id": "0f387741",
   "metadata": {},
   "outputs": [
    {
     "data": {
      "text/plain": [
       "'O rating médio das vendas do supermercado é aproximadamente 6,89.'"
      ]
     },
     "execution_count": 13,
     "metadata": {},
     "output_type": "execute_result"
    }
   ],
   "source": [
    "#mensagens.data[0].content[0].text.value"
   ]
  },
  {
   "cell_type": "code",
   "execution_count": 21,
   "id": "3e4f8c22",
   "metadata": {},
   "outputs": [
    {
     "name": "stderr",
     "output_type": "stream",
     "text": [
      "C:\\Users\\Naja\\AppData\\Local\\Temp\\ipykernel_6392\\764390232.py:2: DeprecationWarning: The Assistants API is deprecated in favor of the Responses API\n",
      "  run_steps = client.beta.threads.runs.steps.list(\n"
     ]
    }
   ],
   "source": [
    "# Analisando os passos do modelo\n",
    "run_steps = client.beta.threads.runs.steps.list(\n",
    "    thread_id = thread.id,\n",
    "    run_id = run.id)"
   ]
  },
  {
   "cell_type": "code",
   "execution_count": 24,
   "id": "f3d02fc9",
   "metadata": {},
   "outputs": [
    {
     "name": "stdout",
     "output_type": "stream",
     "text": [
      "\n",
      "===Step message_creation\n"
     ]
    },
    {
     "name": "stderr",
     "output_type": "stream",
     "text": [
      "C:\\Users\\Naja\\AppData\\Local\\Temp\\ipykernel_6392\\414113233.py:9: DeprecationWarning: The Assistants API is deprecated in favor of the Responses API\n",
      "  message = client.beta.threads.messages.retrieve(\n"
     ]
    },
    {
     "name": "stdout",
     "output_type": "stream",
     "text": [
      "Para gerar um gráfico de pizza que mostre o percentual de vendas por linha de produto, precisamos primeiro examinar o conteúdo do arquivo enviado para identificar a estrutura dos dados. Vamos dar uma olhada nas primeiras linhas do arquivo para entender como os dados estão organizados.\n",
      "\n",
      "===Step tool_calls\n",
      "==========\n",
      "# Vamos começar lendo as primeiras linhas do arquivo para entender sua estrutura.\n",
      "import pandas as pd\n",
      "\n",
      "# Carregar o arquivo\n",
      "file_path = '/mnt/data/file-P6GMTHyTM866xGtPknesHu'\n",
      "data = pd.read_csv(file_path)\n",
      "\n",
      "# Mostrar as primeiras linhas do DataFrame\n",
      "data.head()\n",
      "==========\n",
      "\n",
      "===Step message_creation\n",
      "O arquivo contém dados de vendas, incluindo vários campos relevantes. Para gerar o gráfico de pizza desejado, vamos focar nas colunas `Product line` e `Total`, onde cada linha de produto precisa ser somada em termos de vendas totais para calcular o percentual de contribuição de cada linha de produto.\n",
      "\n",
      "Vamos calcular as vendas totais de cada linha de produto e, em seguida, iremos plotar o gráfico de pizza.\n",
      "\n",
      "===Step tool_calls\n",
      "==========\n",
      "# Agrupar os dados por 'Product line' e somar a coluna 'Total' para cada linha de produto\n",
      "sales_by_product_line = data.groupby('Product line')['Total'].sum()\n",
      "\n",
      "# Calcular o percentual de cada linha de produto\n",
      "percent_sales = sales_by_product_line / sales_by_product_line.sum() * 100\n",
      "\n",
      "# Plotar o gráfico de pizza\n",
      "import matplotlib.pyplot as plt\n",
      "\n",
      "plt.figure(figsize=(10, 8))\n",
      "plt.pie(percent_sales, labels=percent_sales.index, autopct='%1.1f%%', startangle=140)\n",
      "plt.title('Percentual de Vendas por Linha de Produto')\n",
      "plt.axis('equal')  # Equal aspect ratio ensures that pie is drawn as a circle.\n",
      "plt.show()\n",
      "==========\n",
      "\n",
      "===Step message_creation\n",
      "Imagem: file-P6GMTHyTM866xGtPknesHu foi salva.\n"
     ]
    }
   ],
   "source": [
    "for step in run_steps.data[::-1]:\n",
    "    print(f\"\\n===Step {step.step_details.type}\")\n",
    "    if step.step_details.type == \"tool_calls\":\n",
    "        for tool_call in step.step_details.tool_calls:\n",
    "            print(\"=\" *10)\n",
    "            print(tool_call.code_interpreter.input)\n",
    "            print(\"=\" *10)\n",
    "    if step.step_details.type == \"message_creation\":\n",
    "        message = client.beta.threads.messages.retrieve(\n",
    "            thread_id = thread.id,\n",
    "            message_id = step.step_details.message_creation.message_id)\n",
    "\n",
    "        # Tratamento diferenciado dependendo do tipo da resposta do Assistant (texto, arquivo de imagem etc.)\n",
    "        #print(message.content[0].text.value)\n",
    "        if message.content[0].type == \"text\":\n",
    "            print(message.content[0].text.value)\n",
    "        if message.content[0].type == \"image_file\":\n",
    "            file_id = message.content[0].image_file.file_id\n",
    "            image_data = client.files.content(file_id)\n",
    "            with open(f\"files/{file.id}.png\", \"wb\") as f:\n",
    "                f.write(image_data.read())\n",
    "                print(f\"Imagem: {file.id} foi salva.\")\n",
    "        \n",
    "        \n"
   ]
  }
 ],
 "metadata": {
  "kernelspec": {
   "display_name": ".venv",
   "language": "python",
   "name": "python3"
  },
  "language_info": {
   "codemirror_mode": {
    "name": "ipython",
    "version": 3
   },
   "file_extension": ".py",
   "mimetype": "text/x-python",
   "name": "python",
   "nbconvert_exporter": "python",
   "pygments_lexer": "ipython3",
   "version": "3.8.8"
  }
 },
 "nbformat": 4,
 "nbformat_minor": 5
}
